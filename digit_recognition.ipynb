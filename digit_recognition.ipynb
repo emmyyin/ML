{
 "cells": [
  {
   "cell_type": "markdown",
   "metadata": {},
   "source": [
    "# Digit Recognition\n",
    "\n",
    "Using the digits dataset from sklearn, different classifier models are tested."
   ]
  },
  {
   "cell_type": "code",
   "execution_count": 65,
   "metadata": {},
   "outputs": [],
   "source": [
    "import numpy as np\n",
    "import matplotlib.pyplot as plt\n",
    "\n",
    "from sklearn import datasets, tree, svm, linear_model, metrics, preprocessing, pipeline\n",
    "from sklearn.model_selection import train_test_split, GridSearchCV, cross_val_score\n",
    "from sklearn.metrics import classification_report"
   ]
  },
  {
   "cell_type": "code",
   "execution_count": 44,
   "metadata": {},
   "outputs": [
    {
     "data": {
      "image/png": "[encoded data removed]",
      "text/plain": [
       "<Figure size 720x216 with 10 Axes>"
      ]
     },
     "metadata": {
      "needs_background": "light"
     },
     "output_type": "display_data"
    }
   ],
   "source": [
    "digits = datasets.load_digits()\n",
    "\n",
    "_, axes = plt.subplots(nrows=1, ncols=10, figsize=(10,3))\n",
    "for ax, image, label in zip(axes, digits.images, digits.target):\n",
    "    ax.set_axis_off()\n",
    "    ax.imshow(image, cmap=plt.cm.gray_r, interpolation='nearest')\n",
    "    ax.set_title('Training: %i' %label)"
   ]
  },
  {
   "cell_type": "code",
   "execution_count": 92,
   "metadata": {},
   "outputs": [],
   "source": [
    "# flatten the images\n",
    "n_samples = len(digits.images)\n",
    "data = digits.images.reshape((n_samples, -1))\n",
    "\n",
    "X = data\n",
    "y = digits.target\n",
    "\n",
    "# split data into train and test sets\n",
    "X_train, X_test, y_train, y_test = train_test_split(data, digits.target, test_size=0.4, random_state=0)\n",
    "\n",
    "# cross validation folds\n",
    "cv = 10\n",
    "\n",
    "\n",
    "# test\n",
    "def test_classifier(predicted, clf):\n",
    "    _, axes = plt.subplots(nrows=1, ncols=7, figsize=(10,3))\n",
    "    for ax, image, prediction in zip(axes, X_test, predicted):\n",
    "        ax.set_axis_off()\n",
    "        image = image.reshape(8,8)\n",
    "        ax.imshow(image, cmap=plt.cm.gray_r, interpolation='nearest')\n",
    "        ax.set_title(f'Prediction: {prediction}')\n",
    "\n",
    "    print(f\"Classifier score: {clf.score(X_test, y_test)}\")\n",
    "\n",
    "    print(f\"Classification report for classifier {clf}:\\n\"\n",
    "          f\"{metrics.classification_report(y_test, predicted)}\\n\")\n",
    "    \n",
    "# cross validation\n",
    "def cross_validate(X, y, clf, cv):\n",
    "    scores = cross_val_score(clf, X, y, cv=cv)\n",
    "    print(f\"Cross validation score, using {cv} folds\")\n",
    "    for i, score in enumerate(scores):\n",
    "        print(f\"Test {i}: {score}\")\n",
    "    print(f\"Mean score: {np.mean(scores)}, std: {np.std(scores)}\")\n",
    "    \n",
    "\n",
    "# use grid search to find optimal parameters\n",
    "def fit_grid_search_params(parameters, clf):\n",
    "    clf = GridSearchCV(clf, parameters, cv=cv)\n",
    "    clf.fit(X_train,y_train)\n",
    "    print(f\"Optimal setting: {clf.best_params_}\")\n",
    "    print()\n",
    "    y_true, y_pred = y_test, clf.predict(X_test)\n",
    "    print(\"Results on test set\")\n",
    "    print(classification_report(y_true, y_pred))\n",
    "    return clf"
   ]
  },
  {
   "cell_type": "markdown",
   "metadata": {},
   "source": [
    "### K Nearest Neighbours"
   ]
  },
  {
   "cell_type": "code",
   "execution_count": 61,
   "metadata": {},
   "outputs": [
    {
     "name": "stdout",
     "output_type": "stream",
     "text": [
      "Optimal setting: {'n_neighbors': 1}\n",
      "\n",
      "              precision    recall  f1-score   support\n",
      "\n",
      "           0       1.00      1.00      1.00        60\n",
      "           1       0.97      1.00      0.99        73\n",
      "           2       1.00      1.00      1.00        71\n",
      "           3       0.96      1.00      0.98        70\n",
      "           4       1.00      1.00      1.00        63\n",
      "           5       0.99      0.98      0.98        89\n",
      "           6       0.99      1.00      0.99        76\n",
      "           7       1.00      1.00      1.00        65\n",
      "           8       1.00      0.95      0.97        78\n",
      "           9       0.97      0.96      0.97        74\n",
      "\n",
      "    accuracy                           0.99       719\n",
      "   macro avg       0.99      0.99      0.99       719\n",
      "weighted avg       0.99      0.99      0.99       719\n",
      "\n",
      "Cross validation score, using 10 folds\n",
      "Test 0: 0.9333333333333333\n",
      "Test 1: 1.0\n",
      "Test 2: 0.9722222222222222\n",
      "Test 3: 0.9722222222222222\n",
      "Test 4: 0.9666666666666667\n",
      "Test 5: 0.9833333333333333\n",
      "Test 6: 0.9944444444444445\n",
      "Test 7: 0.9888268156424581\n",
      "Test 8: 0.9832402234636871\n",
      "Test 9: 0.9720670391061452\n",
      "Mean score: 0.9766356300434513, std: 0.01770437808926091\n"
     ]
    }
   ],
   "source": [
    "from sklearn.neighbors import KNeighborsClassifier\n",
    "\n",
    "# find optimal K\n",
    "k_values = {'n_neighbors': [1,2,3,4,5,6,7,8,9,10]}\n",
    "\n",
    "knn = fit_grid_search_params(k_values, KNeighborsClassifier())\n",
    "\n",
    "cross_validate(X, y, knn, 10)"
   ]
  },
  {
   "cell_type": "markdown",
   "metadata": {},
   "source": [
    "### Decision Tree"
   ]
  },
  {
   "cell_type": "code",
   "execution_count": 59,
   "metadata": {},
   "outputs": [
    {
     "name": "stdout",
     "output_type": "stream",
     "text": [
      "Optimal setting: {'max_depth': 15}\n",
      "\n",
      "              precision    recall  f1-score   support\n",
      "\n",
      "           0       0.88      0.98      0.93        60\n",
      "           1       0.81      0.84      0.82        73\n",
      "           2       0.93      0.75      0.83        71\n",
      "           3       0.87      0.84      0.86        70\n",
      "           4       0.85      0.84      0.85        63\n",
      "           5       0.85      0.80      0.82        89\n",
      "           6       0.92      0.96      0.94        76\n",
      "           7       0.75      0.94      0.84        65\n",
      "           8       0.75      0.62      0.68        78\n",
      "           9       0.74      0.82      0.78        74\n",
      "\n",
      "    accuracy                           0.83       719\n",
      "   macro avg       0.84      0.84      0.83       719\n",
      "weighted avg       0.84      0.83      0.83       719\n",
      "\n",
      "Cross validation score, using 10 \n",
      "Test 0: 0.7722222222222223\n",
      "Test 1: 0.8444444444444444\n",
      "Test 2: 0.8277777777777777\n",
      "Test 3: 0.7722222222222223\n",
      "Test 4: 0.7777777777777778\n",
      "Test 5: 0.8777777777777778\n",
      "Test 6: 0.8888888888888888\n",
      "Test 7: 0.8435754189944135\n",
      "Test 8: 0.8044692737430168\n",
      "Test 9: 0.8268156424581006\n",
      "Mean score: 0.8235971446306642, std: 0.039754478719760754\n"
     ]
    }
   ],
   "source": [
    "# create decision tree classifier\n",
    "params = {'max_depth': [1,3,5,10,12,15,17,20]}\n",
    "dec_tree = fit_grid_search_params(params, tree.DecisionTreeClassifier())\n",
    "\n",
    "#dec_tree = clf.fit(X_train, y_train)\n",
    "#predicted = dec_tree.predict(X_test)\n",
    "#test_classifier(predicted, dec_tree)\n",
    "\n",
    "cross_validate(X, y, dec_tree, cv)"
   ]
  },
  {
   "cell_type": "markdown",
   "metadata": {},
   "source": [
    "### Support Vector Machine"
   ]
  },
  {
   "cell_type": "code",
   "execution_count": 86,
   "metadata": {},
   "outputs": [
    {
     "name": "stdout",
     "output_type": "stream",
     "text": [
      "Score: 0.9819193324061196\n",
      "Cross validation score, using 10 folds\n",
      "Test 0: 0.9444444444444444\n",
      "Test 1: 0.9944444444444445\n",
      "Test 2: 0.9777777777777777\n",
      "Test 3: 0.9111111111111111\n",
      "Test 4: 0.9777777777777777\n",
      "Test 5: 0.9888888888888889\n",
      "Test 6: 0.9777777777777777\n",
      "Test 7: 0.9441340782122905\n",
      "Test 8: 0.9608938547486033\n",
      "Test 9: 0.9553072625698324\n",
      "Mean score: 0.9632557417752947, std: 0.02402037522167597\n",
      "Using dict_keys(['memory', 'steps', 'verbose', 'standardscaler', 'svc', 'standardscaler__copy', 'standardscaler__with_mean', 'standardscaler__with_std', 'svc__C', 'svc__break_ties', 'svc__cache_size', 'svc__class_weight', 'svc__coef0', 'svc__decision_function_shape', 'svc__degree', 'svc__gamma', 'svc__kernel', 'svc__max_iter', 'svc__probability', 'svc__random_state', 'svc__shrinking', 'svc__tol', 'svc__verbose'])\n",
      "\n",
      "\n",
      "Optimal setting: {'svc__C': 2.5, 'svc__degree': 2, 'svc__kernel': 'poly'}\n",
      "\n",
      "              precision    recall  f1-score   support\n",
      "\n",
      "           0       1.00      1.00      1.00        60\n",
      "           1       0.99      0.99      0.99        73\n",
      "           2       0.99      0.99      0.99        71\n",
      "           3       0.96      0.97      0.96        70\n",
      "           4       1.00      0.98      0.99        63\n",
      "           5       0.98      0.96      0.97        89\n",
      "           6       0.99      0.99      0.99        76\n",
      "           7       0.98      0.98      0.98        65\n",
      "           8       0.96      0.99      0.97        78\n",
      "           9       0.97      0.97      0.97        74\n",
      "\n",
      "    accuracy                           0.98       719\n",
      "   macro avg       0.98      0.98      0.98       719\n",
      "weighted avg       0.98      0.98      0.98       719\n",
      "\n"
     ]
    }
   ],
   "source": [
    "# create support vector machine classifier\n",
    "\n",
    "clf = pipeline.make_pipeline(preprocessing.StandardScaler(), svm.SVC())\n",
    "clf.fit(X_train, y_train)\n",
    "print(f\"Score: {clf.score(X_test, y_test)}\")\n",
    "cross_validate(X, y, clf, cv)\n",
    "\n",
    "print(f\"Using {clf.get_params().keys()}\")\n",
    "print()\n",
    "\n",
    "param_grid = [\n",
    "    {'svc__C': np.linspace(1, 3, 5), 'svc__gamma': np.linspace(0, 1, 4), 'svc__kernel': ['rbf']},\n",
    "    {'svc__C': np.linspace(1, 3, 5), 'svc__degree': [2, 3, 4, 5], 'svc__kernel': ['poly']},\n",
    "]\n",
    "\n",
    "print()\n",
    "svc = fit_grid_search_params(param_grid, clf)"
   ]
  },
  {
   "cell_type": "markdown",
   "metadata": {},
   "source": [
    "### Ridge Classifier"
   ]
  },
  {
   "cell_type": "code",
   "execution_count": 94,
   "metadata": {},
   "outputs": [
    {
     "name": "stdout",
     "output_type": "stream",
     "text": [
      "Classifier score: 0.9248956884561892\n",
      "Classification report for classifier RidgeClassifier():\n",
      "              precision    recall  f1-score   support\n",
      "\n",
      "           0       0.97      1.00      0.98        60\n",
      "           1       0.92      0.89      0.90        73\n",
      "           2       0.87      0.96      0.91        71\n",
      "           3       0.94      0.91      0.93        70\n",
      "           4       0.97      0.95      0.96        63\n",
      "           5       0.94      0.96      0.95        89\n",
      "           6       0.95      0.95      0.95        76\n",
      "           7       0.94      0.97      0.95        65\n",
      "           8       0.97      0.78      0.87        78\n",
      "           9       0.82      0.91      0.86        74\n",
      "\n",
      "    accuracy                           0.92       719\n",
      "   macro avg       0.93      0.93      0.93       719\n",
      "weighted avg       0.93      0.92      0.92       719\n",
      "\n",
      "\n",
      "Optimal setting: {'alpha': 3.0}\n",
      "\n",
      "Results on test set\n",
      "              precision    recall  f1-score   support\n",
      "\n",
      "           0       0.95      1.00      0.98        60\n",
      "           1       0.92      0.89      0.90        73\n",
      "           2       0.87      0.96      0.91        71\n",
      "           3       0.94      0.91      0.93        70\n",
      "           4       0.97      0.95      0.96        63\n",
      "           5       0.96      0.96      0.96        89\n",
      "           6       0.95      0.95      0.95        76\n",
      "           7       0.94      0.97      0.95        65\n",
      "           8       0.97      0.78      0.87        78\n",
      "           9       0.82      0.91      0.86        74\n",
      "\n",
      "    accuracy                           0.92       719\n",
      "   macro avg       0.93      0.93      0.93       719\n",
      "weighted avg       0.93      0.92      0.92       719\n",
      "\n",
      "Cross validation score, using 10 folds\n",
      "Test 0: 0.9222222222222223\n",
      "Test 1: 0.9388888888888889\n",
      "Test 2: 0.9111111111111111\n",
      "Test 3: 0.8388888888888889\n",
      "Test 4: 0.9111111111111111\n",
      "Test 5: 0.8944444444444445\n",
      "Test 6: 0.9555555555555556\n",
      "Test 7: 0.9497206703910615\n",
      "Test 8: 0.8491620111731844\n",
      "Test 9: 0.888268156424581\n",
      "Mean score: 0.9059373060211051, std: 0.037345286944261875\n"
     ]
    },
    {
     "data": {
      "image/png": "[encoded data removed]",
      "text/plain": [
       "<Figure size 720x216 with 7 Axes>"
      ]
     },
     "metadata": {
      "needs_background": "light"
     },
     "output_type": "display_data"
    }
   ],
   "source": [
    "# create ridge classifier\n",
    "rc = linear_model.RidgeClassifier()\n",
    "rc = rc.fit(X_train, y_train)\n",
    "predicted = rc.predict(X_test)\n",
    "test_classifier(predicted, rc)\n",
    "\n",
    "# use grid search to tune alpha\n",
    "params = {'alpha': np.linspace(1, 4, 10)}\n",
    "rc = fit_grid_search_params(params, linear_model.RidgeClassifier())\n",
    "\n",
    "cross_validate(X, y, rc, cv)"
   ]
  }
 ],
 "metadata": {
  "kernelspec": {
   "display_name": "Python 3",
   "language": "python",
   "name": "python3"
  },
  "language_info": {
   "codemirror_mode": {
    "name": "ipython",
    "version": 3
   },
   "file_extension": ".py",
   "mimetype": "text/x-python",
   "name": "python",
   "nbconvert_exporter": "python",
   "pygments_lexer": "ipython3",
   "version": "3.9.0"
  }
 },
 "nbformat": 4,
 "nbformat_minor": 4
}
