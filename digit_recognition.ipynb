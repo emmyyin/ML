{
 "cells": [
  {
   "cell_type": "markdown",
   "metadata": {},
   "source": [
    "# Digit Recognition\n",
    "\n",
    "Using the digits dataset from sklearn, different classifier models are tested."
   ]
  },
  {
   "cell_type": "code",
   "execution_count": 3,
   "metadata": {},
   "outputs": [],
   "source": [
    "import numpy as np\n",
    "import matplotlib.pyplot as plt\n",
    "\n",
    "from sklearn import datasets, tree, svm, linear_model, metrics\n",
    "from sklearn.model_selection import train_test_split, GridSearchCV, cross_val_score\n",
    "from sklearn.metrics import classification_report"
   ]
  },
  {
   "cell_type": "code",
   "execution_count": 4,
   "metadata": {},
   "outputs": [
    {
     "data": {
      "image/png": "[encoded data removed]",
      "text/plain": [
       "<Figure size 720x216 with 10 Axes>"
      ]
     },
     "metadata": {
      "needs_background": "light"
     },
     "output_type": "display_data"
    }
   ],
   "source": [
    "digits = datasets.load_digits()\n",
    "\n",
    "_, axes = plt.subplots(nrows=1, ncols=10, figsize=(10,3))\n",
    "for ax, image, label in zip(axes, digits.images, digits.target):\n",
    "    ax.set_axis_off()\n",
    "    ax.imshow(image, cmap=plt.cm.gray_r, interpolation='nearest')\n",
    "    ax.set_title('Training: %i' %label)"
   ]
  },
  {
   "cell_type": "code",
   "execution_count": 8,
   "metadata": {},
   "outputs": [],
   "source": [
    "# flatten the images\n",
    "n_samples = len(digits.images)\n",
    "data = digits.images.reshape((n_samples, -1))\n",
    "\n",
    "X = data\n",
    "y = digits.target\n",
    "\n",
    "# split data into train and test sets\n",
    "X_train, X_test, y_train, y_test = train_test_split(data, digits.target, random_state=0)\n",
    "\n",
    "\n",
    "# test\n",
    "def test_classifier(predicted, clf):\n",
    "    _, axes = plt.subplots(nrows=1, ncols=7, figsize=(10,3))\n",
    "    for ax, image, prediction in zip(axes, X_test, predicted):\n",
    "        ax.set_axis_off()\n",
    "        image = image.reshape(8,8)\n",
    "        ax.imshow(image, cmap=plt.cm.gray_r, interpolation='nearest')\n",
    "        ax.set_title(f'Prediction: {prediction}')\n",
    "\n",
    "    print(f\"Classifier score: {clf.score(X_test, y_test)}\")\n",
    "\n",
    "    print(f\"Classification report for classifier {clf}:\\n\"\n",
    "          f\"{metrics.classification_report(y_test, predicted)}\\n\")\n",
    "    \n",
    "# cross validation\n",
    "def cross_validate(X, y, clf, cv):\n",
    "    scores = cross_val_score(clf, X, y, cv=cv)\n",
    "    print(f\"Cross validation score, using {cv} \")\n",
    "    for i, score in enumerate(scores):\n",
    "        print(f\"Test {i}: {score}\")\n",
    "    print(f\"Mean score: {np.mean(scores)}, std: {np.std(scores)}\")"
   ]
  },
  {
   "cell_type": "markdown",
   "metadata": {},
   "source": [
    "### K Nearest Neighbours"
   ]
  },
  {
   "cell_type": "code",
   "execution_count": 9,
   "metadata": {},
   "outputs": [
    {
     "name": "stdout",
     "output_type": "stream",
     "text": [
      "Optimal K: 3\n"
     ]
    }
   ],
   "source": [
    "from sklearn.neighbors import KNeighborsClassifier\n",
    "\n",
    "knn = KNeighborsClassifier()\n",
    "\n",
    "# find optimal K\n",
    "k_values = {'n_neighbors': [1,2,3,4,5,6,7,8,9,10]}\n",
    "clf = GridSearchCV(knn, k_values)\n",
    "clf.fit(X_train, y_train)\n",
    "best_k = clf.best_params_['n_neighbors']\n",
    "print(f\"Optimal K: {best_k}\")"
   ]
  },
  {
   "cell_type": "code",
   "execution_count": 10,
   "metadata": {},
   "outputs": [
    {
     "name": "stdout",
     "output_type": "stream",
     "text": [
      "Classifier score: 0.9866666666666667\n",
      "Classification report for classifier KNeighborsClassifier(n_neighbors=3):\n",
      "              precision    recall  f1-score   support\n",
      "\n",
      "           0       1.00      1.00      1.00        37\n",
      "           1       1.00      0.98      0.99        43\n",
      "           2       0.98      1.00      0.99        44\n",
      "           3       0.96      0.98      0.97        45\n",
      "           4       1.00      0.97      0.99        38\n",
      "           5       0.98      0.98      0.98        48\n",
      "           6       1.00      1.00      1.00        52\n",
      "           7       0.98      1.00      0.99        48\n",
      "           8       1.00      0.96      0.98        48\n",
      "           9       0.98      1.00      0.99        47\n",
      "\n",
      "    accuracy                           0.99       450\n",
      "   macro avg       0.99      0.99      0.99       450\n",
      "weighted avg       0.99      0.99      0.99       450\n",
      "\n",
      "\n",
      "Test 0: 0.9388888888888889\n",
      "Test 1: 1.0\n",
      "Test 2: 0.9888888888888889\n",
      "Test 3: 0.9722222222222222\n",
      "Test 4: 0.9666666666666667\n",
      "Test 5: 0.9777777777777777\n",
      "Test 6: 0.9833333333333333\n",
      "Test 7: 0.9832402234636871\n",
      "Test 8: 0.9832402234636871\n",
      "Test 9: 0.9720670391061452\n",
      "Mean score: 0.9766325263811299, std: 0.015472517471692416\n"
     ]
    },
    {
     "data": {
      "image/png": "[encoded data removed]",
      "text/plain": [
       "<Figure size 720x216 with 7 Axes>"
      ]
     },
     "metadata": {
      "needs_background": "light"
     },
     "output_type": "display_data"
    }
   ],
   "source": [
    "knn = KNeighborsClassifier(n_neighbors=best_k)\n",
    "knn.fit(X_train, y_train)\n",
    "\n",
    "predicted = knn.predict(X_test)\n",
    "\n",
    "test_classifier(predicted, knn)\n",
    "cross_validate(X, y, knn, 10)"
   ]
  },
  {
   "cell_type": "markdown",
   "metadata": {},
   "source": [
    "### Decision Tree"
   ]
  },
  {
   "cell_type": "code",
   "execution_count": 62,
   "metadata": {},
   "outputs": [
    {
     "name": "stdout",
     "output_type": "stream",
     "text": [
      "Classifier score: 0.9711111111111111\n",
      "Classification report for classifier SVC(gamma=0.005):\n",
      "              precision    recall  f1-score   support\n",
      "\n",
      "           0       1.00      0.95      0.97        37\n",
      "           1       1.00      0.95      0.98        43\n",
      "           2       1.00      0.95      0.98        44\n",
      "           3       1.00      0.98      0.99        45\n",
      "           4       1.00      1.00      1.00        38\n",
      "           5       1.00      0.98      0.99        48\n",
      "           6       1.00      0.96      0.98        52\n",
      "           7       1.00      0.96      0.98        48\n",
      "           8       0.80      1.00      0.89        48\n",
      "           9       0.98      0.98      0.98        47\n",
      "\n",
      "    accuracy                           0.97       450\n",
      "   macro avg       0.98      0.97      0.97       450\n",
      "weighted avg       0.98      0.97      0.97       450\n",
      "\n",
      "\n"
     ]
    },
    {
     "data": {
      "image/png": "[encoded data removed]",
      "text/plain": [
       "<Figure size 720x216 with 7 Axes>"
      ]
     },
     "metadata": {
      "needs_background": "light"
     },
     "output_type": "display_data"
    }
   ],
   "source": [
    "# create decision tree classifier\n",
    "dec_tree = tree.DecisionTreeClassifier()\n",
    "dec_tree = clf.fit(X_train, y_train)\n",
    "\n",
    "predicted = dec_tree.predict(X_test)\n",
    "\n",
    "test_classifier(predicted, dec_tree)"
   ]
  },
  {
   "cell_type": "markdown",
   "metadata": {},
   "source": [
    "### Support Vector Machine"
   ]
  },
  {
   "cell_type": "code",
   "execution_count": 63,
   "metadata": {},
   "outputs": [
    {
     "name": "stdout",
     "output_type": "stream",
     "text": [
      "Classifier score: 0.9711111111111111\n",
      "Classification report for classifier SVC(gamma=0.005):\n",
      "              precision    recall  f1-score   support\n",
      "\n",
      "           0       1.00      0.95      0.97        37\n",
      "           1       1.00      0.95      0.98        43\n",
      "           2       1.00      0.95      0.98        44\n",
      "           3       1.00      0.98      0.99        45\n",
      "           4       1.00      1.00      1.00        38\n",
      "           5       1.00      0.98      0.99        48\n",
      "           6       1.00      0.96      0.98        52\n",
      "           7       1.00      0.96      0.98        48\n",
      "           8       0.80      1.00      0.89        48\n",
      "           9       0.98      0.98      0.98        47\n",
      "\n",
      "    accuracy                           0.97       450\n",
      "   macro avg       0.98      0.97      0.97       450\n",
      "weighted avg       0.98      0.97      0.97       450\n",
      "\n",
      "\n"
     ]
    },
    {
     "data": {
      "image/png": "[encoded data removed]",
      "text/plain": [
       "<Figure size 720x216 with 7 Axes>"
      ]
     },
     "metadata": {
      "needs_background": "light"
     },
     "output_type": "display_data"
    }
   ],
   "source": [
    "# create support vector machine classifier\n",
    "svm = svm.SVC(gamma=0.005)\n",
    "svm.fit(X_train, y_train)\n",
    "\n",
    "predicted = svm.predict(X_test)\n",
    "\n",
    "test_classifier(predicted, svm)"
   ]
  },
  {
   "cell_type": "code",
   "execution_count": 64,
   "metadata": {},
   "outputs": [
    {
     "name": "stdout",
     "output_type": "stream",
     "text": [
      "{'C': 1.0, 'break_ties': False, 'cache_size': 200, 'class_weight': None, 'coef0': 0.0, 'decision_function_shape': 'ovr', 'degree': 3, 'gamma': 0.005, 'kernel': 'rbf', 'max_iter': -1, 'probability': False, 'random_state': None, 'shrinking': True, 'tol': 0.001, 'verbose': False}\n"
     ]
    }
   ],
   "source": [
    "print(svm.get_params())"
   ]
  }
 ],
 "metadata": {
  "kernelspec": {
   "display_name": "Python 3",
   "language": "python",
   "name": "python3"
  },
  "language_info": {
   "codemirror_mode": {
    "name": "ipython",
    "version": 3
   },
   "file_extension": ".py",
   "mimetype": "text/x-python",
   "name": "python",
   "nbconvert_exporter": "python",
   "pygments_lexer": "ipython3",
   "version": "3.9.0"
  }
 },
 "nbformat": 4,
 "nbformat_minor": 4
}
