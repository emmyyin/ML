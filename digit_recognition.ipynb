{
 "cells": [
  {
   "cell_type": "markdown",
   "metadata": {},
   "source": [
    "# Digit Recognition\n",
    "\n",
    "Using the digits dataset from sklearn, different classifier models are tested."
   ]
  },
  {
   "cell_type": "code",
   "execution_count": 46,
   "metadata": {},
   "outputs": [],
   "source": [
    "import numpy as np\n",
    "import matplotlib.pyplot as plt\n",
    "\n",
    "from sklearn import datasets, tree, svm, linear_model, metrics\n",
    "from sklearn.model_selection import train_test_split, GridSearchCV, cross_val_score\n",
    "from sklearn.metrics import classification_report"
   ]
  },
  {
   "cell_type": "code",
   "execution_count": 47,
   "metadata": {},
   "outputs": [
    {
     "data": {
      "image/png": "[encoded data removed]",
      "text/plain": [
       "<Figure size 720x216 with 10 Axes>"
      ]
     },
     "metadata": {
      "needs_background": "light"
     },
     "output_type": "display_data"
    }
   ],
   "source": [
    "digits = datasets.load_digits()\n",
    "\n",
    "_, axes = plt.subplots(nrows=1, ncols=10, figsize=(10,3))\n",
    "for ax, image, label in zip(axes, digits.images, digits.target):\n",
    "    ax.set_axis_off()\n",
    "    ax.imshow(image, cmap=plt.cm.gray_r, interpolation='nearest')\n",
    "    ax.set_title('Training: %i' %label)"
   ]
  },
  {
   "cell_type": "code",
   "execution_count": 49,
   "metadata": {},
   "outputs": [],
   "source": [
    "# flatten the images\n",
    "n_samples = len(digits.images)\n",
    "data = digits.images.reshape((n_samples, -1))\n",
    "\n",
    "X = data\n",
    "y = digits.target\n",
    "\n",
    "# split data into train and test sets\n",
    "X_train, X_test, y_train, y_test = train_test_split(data, digits.target, random_state=0)\n",
    "\n",
    "\n",
    "# test\n",
    "def test_classifier(predicted, clf):\n",
    "    _, axes = plt.subplots(nrows=1, ncols=7, figsize=(10,3))\n",
    "    for ax, image, prediction in zip(axes, X_test, predicted):\n",
    "        ax.set_axis_off()\n",
    "        image = image.reshape(8,8)\n",
    "        ax.imshow(image, cmap=plt.cm.gray_r, interpolation='nearest')\n",
    "        ax.set_title(f'Prediction: {prediction}')\n",
    "\n",
    "    print(f\"Classifier score: {clf.score(X_test, y_test)}\")\n",
    "\n",
    "    print(f\"Classification report for classifier {clf}:\\n\"\n",
    "          f\"{metrics.classification_report(y_test, predicted)}\\n\")\n",
    "    \n",
    "# cross validation\n",
    "def cross_validate(X, y, clf, cv):\n",
    "    scores = cross_val_score(clf, X, y, cv=cv)\n",
    "    print(f\"Cross validation score, using {cv} \")\n",
    "    for i, score in enumerate(scores):\n",
    "        print(f\"Test {i}: {score}\")\n",
    "    print(f\"Mean score: {np.mean(scores)}, std: {np.std(scores)}\")\n",
    "    \n",
    "    \n",
    "def grid_search_params(parameters, clf):\n",
    "    g = GridSearchCV(clf, parameters)\n",
    "    g.fit(X, y)\n",
    "    return g.best_params_"
   ]
  },
  {
   "cell_type": "markdown",
   "metadata": {},
   "source": [
    "### K Nearest Neighbours"
   ]
  },
  {
   "cell_type": "code",
   "execution_count": 50,
   "metadata": {},
   "outputs": [
    {
     "name": "stdout",
     "output_type": "stream",
     "text": [
      "Optimal setting: {'n_neighbors': 2}\n"
     ]
    }
   ],
   "source": [
    "from sklearn.neighbors import KNeighborsClassifier\n",
    "\n",
    "knn = KNeighborsClassifier()\n",
    "\n",
    "# find optimal K\n",
    "k_values = {'n_neighbors': [1,2,3,4,5,6,7,8,9,10]}\n",
    "best_k = grid_search_params(k_values, knn)\n",
    "print(f\"Optimal setting: {best_k}\")"
   ]
  },
  {
   "cell_type": "code",
   "execution_count": 53,
   "metadata": {},
   "outputs": [
    {
     "name": "stdout",
     "output_type": "stream",
     "text": [
      "Cross validation score, using 10 \n",
      "Test 0: 0.9388888888888889\n",
      "Test 1: 0.9888888888888889\n",
      "Test 2: 0.9888888888888889\n",
      "Test 3: 0.9611111111111111\n",
      "Test 4: 0.9611111111111111\n",
      "Test 5: 0.9833333333333333\n",
      "Test 6: 0.9888888888888889\n",
      "Test 7: 0.9776536312849162\n",
      "Test 8: 0.9776536312849162\n",
      "Test 9: 0.9776536312849162\n",
      "Mean score: 0.974407200496586, std: 0.015347879747506963\n"
     ]
    }
   ],
   "source": [
    "knn = KNeighborsClassifier(n_neighbors=best_k['n_neighbors'])\n",
    "#knn.fit(X_train, y_train)\n",
    "\n",
    "#predicted = knn.predict(X_test)\n",
    "\n",
    "#test_classifier(predicted, knn)\n",
    "cross_validate(X, y, knn, 10)"
   ]
  },
  {
   "cell_type": "markdown",
   "metadata": {},
   "source": [
    "### Decision Tree"
   ]
  },
  {
   "cell_type": "code",
   "execution_count": 54,
   "metadata": {},
   "outputs": [
    {
     "name": "stdout",
     "output_type": "stream",
     "text": [
      "Optimal setting: {'max_depth': 10}\n",
      "Cross validation score, using 10 \n",
      "Test 0: 0.7888888888888889\n",
      "Test 1: 0.8666666666666667\n",
      "Test 2: 0.85\n",
      "Test 3: 0.7722222222222223\n",
      "Test 4: 0.7555555555555555\n",
      "Test 5: 0.8944444444444445\n",
      "Test 6: 0.8888888888888888\n",
      "Test 7: 0.8435754189944135\n",
      "Test 8: 0.776536312849162\n",
      "Test 9: 0.8156424581005587\n",
      "Mean score: 0.82524208566108, std: 0.047914738687173886\n"
     ]
    }
   ],
   "source": [
    "# create decision tree classifier\n",
    "dec_tree = tree.DecisionTreeClassifier()\n",
    "\n",
    "params = {'max_depth': [1,2,3,4,5,6,7,8,9,10,15,20]}\n",
    "best_p = grid_search_params(params, dec_tree)\n",
    "print(f\"Optimal setting: {best_p}\")\n",
    "\n",
    "dec_tree = tree.DecisionTreeClassifier(max_depth=best_p['max_depth'])\n",
    "\n",
    "#dec_tree = clf.fit(X_train, y_train)\n",
    "#predicted = dec_tree.predict(X_test)\n",
    "#test_classifier(predicted, dec_tree)\n",
    "\n",
    "cross_validate(X, y, dec_tree, 10)"
   ]
  },
  {
   "cell_type": "markdown",
   "metadata": {},
   "source": [
    "### Support Vector Machine"
   ]
  },
  {
   "cell_type": "code",
   "execution_count": 55,
   "metadata": {},
   "outputs": [
    {
     "name": "stdout",
     "output_type": "stream",
     "text": [
      "Cross validation score, using 10 \n",
      "Test 0: 0.9111111111111111\n",
      "Test 1: 0.9611111111111111\n",
      "Test 2: 0.8722222222222222\n",
      "Test 3: 0.8722222222222222\n",
      "Test 4: 0.9388888888888889\n",
      "Test 5: 0.9111111111111111\n",
      "Test 6: 0.9722222222222222\n",
      "Test 7: 0.9441340782122905\n",
      "Test 8: 0.9162011173184358\n",
      "Test 9: 0.9106145251396648\n",
      "Mean score: 0.9209838609559279, std: 0.03189486388046007\n"
     ]
    }
   ],
   "source": [
    "# create support vector machine classifier\n",
    "svm = svm.SVC()\n",
    "\n",
    "param_grid = [\n",
    "  {'C': [1, 10, 100, 1000], 'kernel': ['linear']},\n",
    "  {'C': [1, 10, 100, 1000], 'gamma': [0.001, 0.0001], 'kernel': ['rbf']},\n",
    "]\n",
    "\n",
    "best_p = grid_search_params(param_grid, sv)\n",
    "print(f\"Optimal setting: {best_p}\")\n",
    "\n",
    "#svm.fit(X_train, y_train)\n",
    "#predicted = svm.predict(X_test)\n",
    "#test_classifier(predicted, svm)\n",
    "\n",
    "cross_validate(X, y, svm, 10)"
   ]
  },
  {
   "cell_type": "code",
   "execution_count": 8,
   "metadata": {},
   "outputs": [
    {
     "name": "stdout",
     "output_type": "stream",
     "text": [
      "{'C': 1.0, 'break_ties': False, 'cache_size': 200, 'class_weight': None, 'coef0': 0.0, 'decision_function_shape': 'ovr', 'degree': 3, 'gamma': 0.005, 'kernel': 'rbf', 'max_iter': -1, 'probability': False, 'random_state': None, 'shrinking': True, 'tol': 0.001, 'verbose': False}\n"
     ]
    }
   ],
   "source": [
    "print(svm.get_params())"
   ]
  }
 ],
 "metadata": {
  "kernelspec": {
   "display_name": "Python 3",
   "language": "python",
   "name": "python3"
  },
  "language_info": {
   "codemirror_mode": {
    "name": "ipython",
    "version": 3
   },
   "file_extension": ".py",
   "mimetype": "text/x-python",
   "name": "python",
   "nbconvert_exporter": "python",
   "pygments_lexer": "ipython3",
   "version": "3.9.0"
  }
 },
 "nbformat": 4,
 "nbformat_minor": 4
}
